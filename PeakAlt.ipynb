{
  "nbformat": 4,
  "nbformat_minor": 0,
  "metadata": {
    "colab": {
      "provenance": [],
      "collapsed_sections": [
        "0F3Yy-ay9QTc",
        "xcM3xTAY9W9J"
      ],
      "authorship_tag": "ABX9TyO826chtqTVzZTBgnwDezhI",
      "include_colab_link": true
    },
    "kernelspec": {
      "name": "python3",
      "display_name": "Python 3"
    },
    "language_info": {
      "name": "python"
    }
  },
  "cells": [
    {
      "cell_type": "markdown",
      "metadata": {
        "id": "view-in-github",
        "colab_type": "text"
      },
      "source": [
        "<a href=\"https://colab.research.google.com/github/bhagesh-codebeast/peakalt/blob/development/PeakAlt.ipynb\" target=\"_parent\"><img src=\"https://colab.research.google.com/assets/colab-badge.svg\" alt=\"Open In Colab\"/></a>"
      ]
    },
    {
      "cell_type": "code",
      "execution_count": 1,
      "metadata": {
        "colab": {
          "base_uri": "https://localhost:8080/"
        },
        "id": "cG3PP0Japf5N",
        "outputId": "8edc5806-f062-4223-a7f7-934f165870e3"
      },
      "outputs": [
        {
          "output_type": "stream",
          "name": "stdout",
          "text": [
            "Collecting biopython\n",
            "  Downloading biopython-1.82-cp310-cp310-manylinux_2_17_x86_64.manylinux2014_x86_64.whl (3.1 MB)\n",
            "\u001b[2K     \u001b[90m━━━━━━━━━━━━━━━━━━━━━━━━━━━━━━━━━━━━━━━━\u001b[0m \u001b[32m3.1/3.1 MB\u001b[0m \u001b[31m11.4 MB/s\u001b[0m eta \u001b[36m0:00:00\u001b[0m\n",
            "\u001b[?25hRequirement already satisfied: numpy in /usr/local/lib/python3.10/dist-packages (from biopython) (1.23.5)\n",
            "Installing collected packages: biopython\n",
            "Successfully installed biopython-1.82\n",
            "Requirement already satisfied: matplotlib in /usr/local/lib/python3.10/dist-packages (3.7.1)\n",
            "Requirement already satisfied: contourpy>=1.0.1 in /usr/local/lib/python3.10/dist-packages (from matplotlib) (1.2.0)\n",
            "Requirement already satisfied: cycler>=0.10 in /usr/local/lib/python3.10/dist-packages (from matplotlib) (0.12.1)\n",
            "Requirement already satisfied: fonttools>=4.22.0 in /usr/local/lib/python3.10/dist-packages (from matplotlib) (4.46.0)\n",
            "Requirement already satisfied: kiwisolver>=1.0.1 in /usr/local/lib/python3.10/dist-packages (from matplotlib) (1.4.5)\n",
            "Requirement already satisfied: numpy>=1.20 in /usr/local/lib/python3.10/dist-packages (from matplotlib) (1.23.5)\n",
            "Requirement already satisfied: packaging>=20.0 in /usr/local/lib/python3.10/dist-packages (from matplotlib) (23.2)\n",
            "Requirement already satisfied: pillow>=6.2.0 in /usr/local/lib/python3.10/dist-packages (from matplotlib) (9.4.0)\n",
            "Requirement already satisfied: pyparsing>=2.3.1 in /usr/local/lib/python3.10/dist-packages (from matplotlib) (3.1.1)\n",
            "Requirement already satisfied: python-dateutil>=2.7 in /usr/local/lib/python3.10/dist-packages (from matplotlib) (2.8.2)\n",
            "Requirement already satisfied: six>=1.5 in /usr/local/lib/python3.10/dist-packages (from python-dateutil>=2.7->matplotlib) (1.16.0)\n"
          ]
        }
      ],
      "source": [
        "! pip install biopython\n",
        "! pip install matplotlib"
      ]
    },
    {
      "cell_type": "code",
      "source": [
        "from Bio import SeqIO\n",
        "from Bio.Blast.NCBIWWW import qblast\n",
        "from collections import defaultdict\n",
        "import matplotlib.pyplot as plt\n",
        "from Bio.Blast import NCBIXML"
      ],
      "metadata": {
        "id": "ZOzry8WQAap-"
      },
      "execution_count": 2,
      "outputs": []
    },
    {
      "cell_type": "code",
      "source": [],
      "metadata": {
        "id": "xkTyCtbTAkGO"
      },
      "execution_count": null,
      "outputs": []
    },
    {
      "cell_type": "markdown",
      "source": [
        "# Introduction"
      ],
      "metadata": {
        "id": "DwrKZla69JiV"
      }
    },
    {
      "cell_type": "markdown",
      "source": [
        "Intro: https://www.nucleics.com/wp-content/uploads/2014/04/PeakTrace-Whitepaper.pdf"
      ],
      "metadata": {
        "id": "dUVuLX41xyv1"
      }
    },
    {
      "cell_type": "markdown",
      "source": [
        "Data: https://github.com/y9c/cfutils/blob/master/data/B5-M13R_B07.ab1"
      ],
      "metadata": {
        "id": "GrWBG1oRqvNT"
      }
    },
    {
      "cell_type": "code",
      "source": [
        "! ls -lrth sample_data/B5-M13R_B07.ab1\n",
        "# ! ls -lrth sample_data/A-372711_A5.ab1"
      ],
      "metadata": {
        "colab": {
          "base_uri": "https://localhost:8080/"
        },
        "id": "XuUdRdnfrXUg",
        "outputId": "c7b3ed33-d8ce-4896-dc17-2df0dec628b0"
      },
      "execution_count": 53,
      "outputs": [
        {
          "output_type": "stream",
          "name": "stdout",
          "text": [
            "-rw-r--r-- 1 root root 289K Dec 23 12:32 sample_data/B5-M13R_B07.ab1\n"
          ]
        }
      ]
    },
    {
      "cell_type": "code",
      "source": [
        "record = SeqIO.read(\"sample_data/A-372711_A5.ab1\", \"abi\")"
      ],
      "metadata": {
        "id": "Ehy6Any4qx9J"
      },
      "execution_count": 54,
      "outputs": []
    },
    {
      "cell_type": "code",
      "source": [
        "type(record)"
      ],
      "metadata": {
        "colab": {
          "base_uri": "https://localhost:8080/"
        },
        "id": "zzo5lKlSrlHx",
        "outputId": "9db8fddc-dc3a-4c60-ee68-f650d0123a93"
      },
      "execution_count": 55,
      "outputs": [
        {
          "output_type": "execute_result",
          "data": {
            "text/plain": [
              "Bio.SeqRecord.SeqRecord"
            ]
          },
          "metadata": {},
          "execution_count": 55
        }
      ]
    },
    {
      "cell_type": "code",
      "source": [
        "record"
      ],
      "metadata": {
        "colab": {
          "base_uri": "https://localhost:8080/"
        },
        "id": "MOEvQBgArniy",
        "outputId": "9b32e572-4345-4638-8782-873715b75134"
      },
      "execution_count": 56,
      "outputs": [
        {
          "output_type": "execute_result",
          "data": {
            "text/plain": [
              "SeqRecord(seq=Seq('TATGGGGGACCATTGCTTACCTCCCATTGACCTTATGTACTGGGCAAAACCCAT...TCG'), id='A-372711_A5', name='A-372711_A5', description='', dbxrefs=[])"
            ]
          },
          "metadata": {},
          "execution_count": 56
        }
      ]
    },
    {
      "cell_type": "code",
      "source": [
        "record.id"
      ],
      "metadata": {
        "colab": {
          "base_uri": "https://localhost:8080/",
          "height": 35
        },
        "id": "SkF_X-79sfe0",
        "outputId": "f9ecea55-8e85-41e3-e5fa-7f80079bf0b2"
      },
      "execution_count": 57,
      "outputs": [
        {
          "output_type": "execute_result",
          "data": {
            "text/plain": [
              "'A-372711_A5'"
            ],
            "application/vnd.google.colaboratory.intrinsic+json": {
              "type": "string"
            }
          },
          "metadata": {},
          "execution_count": 57
        }
      ]
    },
    {
      "cell_type": "code",
      "source": [
        "record.name"
      ],
      "metadata": {
        "colab": {
          "base_uri": "https://localhost:8080/",
          "height": 35
        },
        "id": "Wjog_BLRsfor",
        "outputId": "d6fc38fa-c350-477f-cc68-a07debb600eb"
      },
      "execution_count": 11,
      "outputs": [
        {
          "output_type": "execute_result",
          "data": {
            "text/plain": [
              "'A-372711_A5'"
            ],
            "application/vnd.google.colaboratory.intrinsic+json": {
              "type": "string"
            }
          },
          "metadata": {},
          "execution_count": 11
        }
      ]
    },
    {
      "cell_type": "code",
      "source": [
        "len(record.seq)\n",
        "# str(record.seq)"
      ],
      "metadata": {
        "colab": {
          "base_uri": "https://localhost:8080/"
        },
        "id": "ff99EtnAsnbf",
        "outputId": "18c95c4e-fb19-45b3-dc97-5f58bc7928a6"
      },
      "execution_count": 59,
      "outputs": [
        {
          "output_type": "execute_result",
          "data": {
            "text/plain": [
              "1182"
            ]
          },
          "metadata": {},
          "execution_count": 59
        }
      ]
    },
    {
      "cell_type": "code",
      "source": [
        "record.annotations.keys()"
      ],
      "metadata": {
        "colab": {
          "base_uri": "https://localhost:8080/"
        },
        "id": "1-N_flqArta-",
        "outputId": "7eef9e4a-6392-4813-fbbb-712ece93556e"
      },
      "execution_count": 60,
      "outputs": [
        {
          "output_type": "execute_result",
          "data": {
            "text/plain": [
              "dict_keys(['sample_well', 'dye', 'polymer', 'machine_model', 'run_start', 'run_finish', 'abif_raw', 'molecule_type'])"
            ]
          },
          "metadata": {},
          "execution_count": 60
        }
      ]
    },
    {
      "cell_type": "code",
      "source": [
        "record.annotations['sample_well']"
      ],
      "metadata": {
        "colab": {
          "base_uri": "https://localhost:8080/"
        },
        "id": "zCQEjYGurzhc",
        "outputId": "ca98b0c4-33d6-403e-d045-50204b750aa3"
      },
      "execution_count": 61,
      "outputs": [
        {
          "output_type": "execute_result",
          "data": {
            "text/plain": [
              "b'A5'"
            ]
          },
          "metadata": {},
          "execution_count": 61
        }
      ]
    },
    {
      "cell_type": "code",
      "source": [
        "record.annotations['dye']"
      ],
      "metadata": {
        "colab": {
          "base_uri": "https://localhost:8080/"
        },
        "id": "nhwHXMGrtFtQ",
        "outputId": "b3c4cd1b-a09d-463c-a2f0-688059a25f55"
      },
      "execution_count": 62,
      "outputs": [
        {
          "output_type": "execute_result",
          "data": {
            "text/plain": [
              "b'Z-BigDyeV3'"
            ]
          },
          "metadata": {},
          "execution_count": 62
        }
      ]
    },
    {
      "cell_type": "code",
      "source": [
        "record.annotations['polymer']"
      ],
      "metadata": {
        "colab": {
          "base_uri": "https://localhost:8080/"
        },
        "id": "MBwwYLfjtKfs",
        "outputId": "62bf64b1-e18f-4131-9641-494829b74566"
      },
      "execution_count": 63,
      "outputs": [
        {
          "output_type": "execute_result",
          "data": {
            "text/plain": [
              "b'POP7                            '"
            ]
          },
          "metadata": {},
          "execution_count": 63
        }
      ]
    },
    {
      "cell_type": "code",
      "source": [
        "record.annotations['machine_model']"
      ],
      "metadata": {
        "colab": {
          "base_uri": "https://localhost:8080/"
        },
        "id": "XRjV0N_XtPMn",
        "outputId": "9a74bd88-b162-4cd3-f720-e81c09a75c33"
      },
      "execution_count": 64,
      "outputs": [
        {
          "output_type": "execute_result",
          "data": {
            "text/plain": [
              "b'3730'"
            ]
          },
          "metadata": {},
          "execution_count": 64
        }
      ]
    },
    {
      "cell_type": "code",
      "source": [
        "(record.annotations['run_start'], record.annotations['run_finish'])"
      ],
      "metadata": {
        "colab": {
          "base_uri": "https://localhost:8080/"
        },
        "id": "QZbkFmZWtTJ5",
        "outputId": "f05c37b2-7199-4b8e-c345-576e173f298e"
      },
      "execution_count": 65,
      "outputs": [
        {
          "output_type": "execute_result",
          "data": {
            "text/plain": [
              "('2023-04-11 18:48:28', '2023-04-11 20:36:18')"
            ]
          },
          "metadata": {},
          "execution_count": 65
        }
      ]
    },
    {
      "cell_type": "code",
      "source": [
        "record.annotations['abif_raw'].keys()"
      ],
      "metadata": {
        "colab": {
          "base_uri": "https://localhost:8080/"
        },
        "id": "Jm38uMT8tZUF",
        "outputId": "dbcd8d55-6aa5-43fc-b055-d383f857eee4"
      },
      "execution_count": 66,
      "outputs": [
        {
          "output_type": "execute_result",
          "data": {
            "text/plain": [
              "dict_keys(['AEPt1', 'AEPt2', 'APFN2', 'APXV1', 'APrN1', 'APrV1', 'APrX1', 'ARTN1', 'ASPF1', 'ASPt1', 'ASPt2', 'AUDT1', 'B1Pt1', 'B1Pt2', 'BCTS1', 'BufT1', 'CMNT1', 'CTID1', 'CTNM1', 'CTOw1', 'CTTL1', 'CpEP1', 'DATA1', 'DATA2', 'DATA3', 'DATA4', 'DATA5', 'DATA6', 'DATA7', 'DATA8', 'DATA9', 'DATA10', 'DATA11', 'DATA12', 'DCHT1', 'DSam1', 'DySN1', 'Dye#1', 'DyeN1', 'DyeN2', 'DyeN3', 'DyeN4', 'DyeW1', 'DyeW2', 'DyeW3', 'DyeW4', 'EPVt1', 'EVNT1', 'EVNT2', 'EVNT3', 'EVNT4', 'FTab1', 'FVoc1', 'FWO_1', 'Feat1', 'GTyp1', 'HCFG1', 'HCFG2', 'HCFG3', 'HCFG4', 'InSc1', 'InVt1', 'LANE1', 'LAST1', 'LIMS1', 'LNTD1', 'LsrP1', 'MCHN1', 'MODF1', 'MODL1', 'NAVG1', 'NLNE1', 'NOIS1', 'P1AM1', 'P1RL1', 'P1WD1', 'P2AM1', 'P2BA1', 'P2RL1', 'PBAS1', 'PBAS2', 'PCON1', 'PCON2', 'PDMF1', 'PDMF2', 'PLOC1', 'PLOC2', 'PSZE1', 'PTYP1', 'PXLB1', 'RGNm1', 'RGOw1', 'RMXV1', 'RMdN1', 'RMdV1', 'RMdX1', 'RPrN1', 'RPrV1', 'RUND1', 'RUND2', 'RUND3', 'RUND4', 'RUNT1', 'RUNT2', 'RUNT3', 'RUNT4', 'Rate1', 'RunN1', 'S/N%1', 'SCAN1', 'SMED1', 'SMLt1', 'SMPL1', 'SPAC1', 'SPAC2', 'SPAC3', 'SVER1', 'SVER2', 'SVER3', 'Scal1', 'Scan1', 'TUBE1', 'Tmpr1', 'User1', 'phAR1', 'phCH1', 'phDY1', 'phQL1', 'phTR1', 'phTR2'])"
            ]
          },
          "metadata": {},
          "execution_count": 66
        }
      ]
    },
    {
      "cell_type": "markdown",
      "source": [
        "Plot: https://biopython.org/wiki/ABI_traces"
      ],
      "metadata": {
        "id": "0-SSp_lGwq5X"
      }
    },
    {
      "cell_type": "code",
      "source": [
        "channels = [\"DATA9\", \"DATA10\", \"DATA11\", \"DATA12\", \"FWO_1\", \"PLOC1\", \"PCON1\"]\n",
        "trace = defaultdict(list)\n",
        "for c in channels:\n",
        "    trace[c] = record.annotations[\"abif_raw\"][c]"
      ],
      "metadata": {
        "id": "sDa4EetJvvQy"
      },
      "execution_count": 29,
      "outputs": []
    },
    {
      "cell_type": "markdown",
      "source": [
        "Nucleotide channels: https://www.reddit.com/r/bioinformatics/comments/buswph/manual_creation_of_chromatogram_from_ab1_sanger/\n",
        "\n",
        "\n",
        "\n",
        "\n",
        "\n",
        "[\"DATA9\"] = corrected signals for base G\n",
        "\n",
        "[\"DATA10\"] = corrected signals for base A\n",
        "\n",
        "[\"DATA11\"] = corrected signals for base T\n",
        "\n",
        "[\"DATA12\"] = corrected signals for base C\n",
        "\n",
        "[\"PBAS1\"] = the actual base-calls or sequence\n",
        "\n",
        "[\"FWO_1\"] = GATC (corresponds to base order of DATA9-DATA12)\n",
        "\n",
        "[\"PLOC1\"] = peak locations\n",
        "\n",
        "[\"PCON1\"] = phred scores for each base\n"
      ],
      "metadata": {
        "id": "wwmNwCeAwuuj"
      }
    },
    {
      "cell_type": "markdown",
      "source": [
        "Pred Score: https://www.nucleics.com/wp-content/uploads/2014/04/PeakTrace-Whitepaper.pdf"
      ],
      "metadata": {
        "id": "0qFZkzk30WQj"
      }
    },
    {
      "cell_type": "code",
      "source": [
        "trace[\"PLOC1\"][:10]"
      ],
      "metadata": {
        "colab": {
          "base_uri": "https://localhost:8080/"
        },
        "id": "bezq95tk3jMI",
        "outputId": "005e9cc7-f3ee-4c09-dfc6-c3251c5ca409"
      },
      "execution_count": 68,
      "outputs": [
        {
          "output_type": "execute_result",
          "data": {
            "text/plain": [
              "(3, 16, 28, 38, 46, 58, 65, 81, 105, 128)"
            ]
          },
          "metadata": {},
          "execution_count": 68
        }
      ]
    },
    {
      "cell_type": "code",
      "source": [
        "trace[\"PCON1\"][:10]"
      ],
      "metadata": {
        "colab": {
          "base_uri": "https://localhost:8080/"
        },
        "id": "sHWLkUD1yGiJ",
        "outputId": "b373c28b-7bd0-456f-a18f-2f7f1873e5d4"
      },
      "execution_count": 69,
      "outputs": [
        {
          "output_type": "execute_result",
          "data": {
            "text/plain": [
              "b'\\x03\\x03\\x03\\x05\\x03\\x03\\x03\\x04\\x0b\\x08'"
            ]
          },
          "metadata": {},
          "execution_count": 69
        }
      ]
    },
    {
      "cell_type": "code",
      "source": [
        "[x for x in trace[\"PCON1\"][:10]]"
      ],
      "metadata": {
        "colab": {
          "base_uri": "https://localhost:8080/"
        },
        "id": "jVCijXtS2igy",
        "outputId": "9187f691-20f3-43ed-ad45-0d97e84368ec"
      },
      "execution_count": 70,
      "outputs": [
        {
          "output_type": "execute_result",
          "data": {
            "text/plain": [
              "[3, 3, 3, 5, 3, 3, 3, 4, 11, 8]"
            ]
          },
          "metadata": {},
          "execution_count": 70
        }
      ]
    },
    {
      "cell_type": "code",
      "source": [
        "list(trace[\"DATA9\"][:10])"
      ],
      "metadata": {
        "colab": {
          "base_uri": "https://localhost:8080/"
        },
        "id": "M-8KT5dJ0IvB",
        "outputId": "fa361515-05fd-4f41-be75-25afb87feb53"
      },
      "execution_count": 71,
      "outputs": [
        {
          "output_type": "execute_result",
          "data": {
            "text/plain": [
              "[179, 183, 190, 202, 220, 244, 267, 285, 299, 312]"
            ]
          },
          "metadata": {},
          "execution_count": 71
        }
      ]
    },
    {
      "cell_type": "code",
      "source": [
        "list(trace[\"DATA10\"][:10])"
      ],
      "metadata": {
        "colab": {
          "base_uri": "https://localhost:8080/"
        },
        "id": "rfnWStde1MI1",
        "outputId": "fdbb35cd-0763-403d-8425-cae16d1f750f"
      },
      "execution_count": 72,
      "outputs": [
        {
          "output_type": "execute_result",
          "data": {
            "text/plain": [
              "[424, 432, 448, 474, 514, 560, 603, 630, 646, 659]"
            ]
          },
          "metadata": {},
          "execution_count": 72
        }
      ]
    },
    {
      "cell_type": "code",
      "source": [
        "list(trace[\"DATA11\"][:10])"
      ],
      "metadata": {
        "colab": {
          "base_uri": "https://localhost:8080/"
        },
        "id": "rf8F00AL1Nh5",
        "outputId": "ab22dc8d-7815-462f-cd6f-8e8640d1a650"
      },
      "execution_count": 73,
      "outputs": [
        {
          "output_type": "execute_result",
          "data": {
            "text/plain": [
              "[134, 139, 150, 168, 195, 229, 264, 292, 316, 340]"
            ]
          },
          "metadata": {},
          "execution_count": 73
        }
      ]
    },
    {
      "cell_type": "code",
      "source": [
        "list(trace[\"DATA12\"][:10])"
      ],
      "metadata": {
        "colab": {
          "base_uri": "https://localhost:8080/"
        },
        "id": "-cCAsM2R1PJz",
        "outputId": "1e87dd9d-4186-4243-95f8-102c874acfe1"
      },
      "execution_count": 74,
      "outputs": [
        {
          "output_type": "execute_result",
          "data": {
            "text/plain": [
              "[12, 12, 13, 14, 16, 19, 22, 24, 25, 25]"
            ]
          },
          "metadata": {},
          "execution_count": 74
        }
      ]
    },
    {
      "cell_type": "code",
      "source": [
        "plt.plot(trace[\"DATA9\"][:100], color=\"blue\")\n",
        "plt.plot(trace[\"DATA10\"][:100], color=\"red\")\n",
        "plt.plot(trace[\"DATA11\"][:100], color=\"green\")\n",
        "plt.plot(trace[\"DATA12\"][:100], color=\"yellow\")\n",
        "plt.show()"
      ],
      "metadata": {
        "colab": {
          "base_uri": "https://localhost:8080/",
          "height": 430
        },
        "id": "E-DWA6zFvx9u",
        "outputId": "ef943591-6b97-448f-dcb2-d2231993791b"
      },
      "execution_count": 31,
      "outputs": [
        {
          "output_type": "display_data",
          "data": {
            "text/plain": [
              "<Figure size 640x480 with 1 Axes>"
            ],
            "image/png": "[encoded data removed]"
          },
          "metadata": {}
        }
      ]
    },
    {
      "cell_type": "code",
      "source": [
        "plt.plot([x for x in trace[\"PCON1\"][:100]], color=\"red\")\n",
        "plt.show()"
      ],
      "metadata": {
        "colab": {
          "base_uri": "https://localhost:8080/",
          "height": 430
        },
        "id": "dm_f-4djaM7y",
        "outputId": "51fa26ae-7d3f-4b2d-b06b-c54157ae16a4"
      },
      "execution_count": 38,
      "outputs": [
        {
          "output_type": "display_data",
          "data": {
            "text/plain": [
              "<Figure size 640x480 with 1 Axes>"
            ],
            "image/png": "[encoded data removed]"
          },
          "metadata": {}
        }
      ]
    },
    {
      "cell_type": "code",
      "source": [],
      "metadata": {
        "id": "6GBcw5fVaM38"
      },
      "execution_count": null,
      "outputs": []
    },
    {
      "cell_type": "code",
      "source": [
        "record.annotations['molecule_type']"
      ],
      "metadata": {
        "colab": {
          "base_uri": "https://localhost:8080/",
          "height": 35
        },
        "id": "LwfDhqH4tlay",
        "outputId": "e070235b-0264-458e-fbad-a9e8b6005c6b"
      },
      "execution_count": 76,
      "outputs": [
        {
          "output_type": "execute_result",
          "data": {
            "text/plain": [
              "'DNA'"
            ],
            "application/vnd.google.colaboratory.intrinsic+json": {
              "type": "string"
            }
          },
          "metadata": {},
          "execution_count": 76
        }
      ]
    },
    {
      "cell_type": "markdown",
      "source": [
        "# BLAST"
      ],
      "metadata": {
        "id": "iX-nV1DfKgYA"
      }
    },
    {
      "cell_type": "code",
      "source": [
        "help(qblast)"
      ],
      "metadata": {
        "colab": {
          "base_uri": "https://localhost:8080/"
        },
        "id": "Og1lq0UwKi94",
        "outputId": "28db8c57-f80d-4744-ed5c-7ddbb585e667"
      },
      "execution_count": 7,
      "outputs": [
        {
          "output_type": "stream",
          "name": "stdout",
          "text": [
            "Help on function qblast in module Bio.Blast.NCBIWWW:\n",
            "\n",
            "qblast(program, database, sequence, url_base='https://blast.ncbi.nlm.nih.gov/Blast.cgi', auto_format=None, composition_based_statistics=None, db_genetic_code=None, endpoints=None, entrez_query='(none)', expect=10.0, filter=None, gapcosts=None, genetic_code=None, hitlist_size=50, i_thresh=None, layout=None, lcase_mask=None, matrix_name=None, nucl_penalty=None, nucl_reward=None, other_advanced=None, perc_ident=None, phi_pattern=None, query_file=None, query_believe_defline=None, query_from=None, query_to=None, searchsp_eff=None, service=None, threshold=None, ungapped_alignment=None, word_size=None, short_query=None, alignments=500, alignment_view=None, descriptions=500, entrez_links_new_window=None, expect_low=None, expect_high=None, format_entrez_query=None, format_object=None, format_type='XML', ncbi_gi=None, results_file=None, show_overview=None, megablast=None, template_type=None, template_length=None, username='blast', password=None)\n",
            "    BLAST search using NCBI's QBLAST server or a cloud service provider.\n",
            "    \n",
            "    Supports all parameters of the old qblast API for Put and Get.\n",
            "    \n",
            "    Please note that NCBI uses the new Common URL API for BLAST searches\n",
            "    on the internet (http://ncbi.github.io/blast-cloud/dev/api.html). Thus,\n",
            "    some of the parameters used by this function are not (or are no longer)\n",
            "    officially supported by NCBI. Although they are still functioning, this\n",
            "    may change in the future.\n",
            "    \n",
            "    The Common URL API (http://ncbi.github.io/blast-cloud/dev/api.html) allows\n",
            "    doing BLAST searches on cloud servers. To use this feature, please set\n",
            "    ``url_base='http://host.my.cloud.service.provider.com/cgi-bin/blast.cgi'``\n",
            "    and ``format_object='Alignment'``. For more details, please see\n",
            "    https://blast.ncbi.nlm.nih.gov/Blast.cgi?PAGE_TYPE=BlastDocs&DOC_TYPE=CloudBlast\n",
            "    \n",
            "    Some useful parameters:\n",
            "    \n",
            "     - program        blastn, blastp, blastx, tblastn, or tblastx (lower case)\n",
            "     - database       Which database to search against (e.g. \"nr\").\n",
            "     - sequence       The sequence to search.\n",
            "     - ncbi_gi        TRUE/FALSE whether to give 'gi' identifier.\n",
            "     - descriptions   Number of descriptions to show.  Def 500.\n",
            "     - alignments     Number of alignments to show.  Def 500.\n",
            "     - expect         An expect value cutoff.  Def 10.0.\n",
            "     - matrix_name    Specify an alt. matrix (PAM30, PAM70, BLOSUM80, BLOSUM45).\n",
            "     - filter         \"none\" turns off filtering.  Default no filtering\n",
            "     - format_type    \"HTML\", \"Text\", \"ASN.1\", or \"XML\".  Def. \"XML\".\n",
            "     - entrez_query   Entrez query to limit Blast search\n",
            "     - hitlist_size   Number of hits to return. Default 50\n",
            "     - megablast      TRUE/FALSE whether to use MEga BLAST algorithm (blastn only)\n",
            "     - short_query    TRUE/FALSE whether to adjust the search parameters for a\n",
            "                      short query sequence. Note that this will override\n",
            "                      manually set parameters like word size and e value. Turns\n",
            "                      off when sequence length is > 30 residues. Default: None.\n",
            "     - service        plain, psi, phi, rpsblast, megablast (lower case)\n",
            "    \n",
            "    This function does no checking of the validity of the parameters\n",
            "    and passes the values to the server as is.  More help is available at:\n",
            "    https://ncbi.github.io/blast-cloud/dev/api.html\n",
            "\n"
          ]
        }
      ]
    },
    {
      "cell_type": "code",
      "source": [
        "def get_blast_program(record):\n",
        "  if record.annotations['molecule_type'] == 'DNA':\n",
        "    return 'blastn'"
      ],
      "metadata": {
        "id": "YDozqvGyN7Jx"
      },
      "execution_count": 4,
      "outputs": []
    },
    {
      "cell_type": "code",
      "source": [
        "record = SeqIO.read(\"sample_data/A-372711_A5.ab1\", \"abi\")\n",
        "get_blast_program(record)"
      ],
      "metadata": {
        "colab": {
          "base_uri": "https://localhost:8080/",
          "height": 35
        },
        "id": "j66P8nANN7Gp",
        "outputId": "4e6071ba-027a-4422-eede-2285f6011d48"
      },
      "execution_count": 5,
      "outputs": [
        {
          "output_type": "execute_result",
          "data": {
            "text/plain": [
              "'blastn'"
            ],
            "application/vnd.google.colaboratory.intrinsic+json": {
              "type": "string"
            }
          },
          "metadata": {},
          "execution_count": 5
        }
      ]
    },
    {
      "cell_type": "code",
      "source": [
        "%%time\n",
        "\n",
        "blast_XML = \"sample_data/blast.XML\"\n",
        "\n",
        "blast = qblast(\n",
        "    program = get_blast_program(record),\n",
        "    sequence = record.seq,\n",
        "    database = \"nr\",\n",
        "    hitlist_size = 5)\n",
        "\n",
        "with open(blast_XML, \"w\") as result_file:\n",
        "    result_file.write(blast.read())\n",
        "\n",
        "blast.close()"
      ],
      "metadata": {
        "colab": {
          "base_uri": "https://localhost:8080/"
        },
        "id": "SW6_RIeAN7C4",
        "outputId": "aa816394-d384-42ab-bf26-573cbcdccd03"
      },
      "execution_count": 6,
      "outputs": [
        {
          "output_type": "stream",
          "name": "stdout",
          "text": [
            "CPU times: user 599 ms, sys: 89.5 ms, total: 689 ms\n",
            "Wall time: 2min 2s\n"
          ]
        }
      ]
    },
    {
      "cell_type": "code",
      "source": [
        "with open(blast_XML) as result_file:\n",
        "  blast_records = NCBIXML.parse(result_file)\n",
        "  for blast_record in blast_records:\n",
        "    for alignment in blast_record.alignments:\n",
        "      hsp = alignment.hsps[0]\n",
        "      start_coord = hsp.query_start\n",
        "      end_coord = hsp.query_end\n",
        "      print(start_coord,end_coord)"
      ],
      "metadata": {
        "colab": {
          "base_uri": "https://localhost:8080/"
        },
        "id": "aq6suAkHN640",
        "outputId": "4a5cd49f-fb64-49b5-b353-a740923700f6"
      },
      "execution_count": 23,
      "outputs": [
        {
          "output_type": "stream",
          "name": "stdout",
          "text": [
            "430 1163\n",
            "430 1163\n",
            "430 1163\n",
            "430 1163\n",
            "430 1163\n"
          ]
        }
      ]
    },
    {
      "cell_type": "code",
      "source": [
        "# for blast_record in blast_records:\n",
        "#   for alignment in blast_record.alignments:\n",
        "#     print(f\"Sequence: {alignment.title}\")\n",
        "#     for hsp in alignment.hsps[0]:\n",
        "#       print(f\"  Score: {hsp.score}\")\n",
        "#       print(f\"  E-value: {hsp.expect}\")\n",
        "#       print(f\"  Alignment: {hsp.align_length} nucleotides\")\n",
        "#       print(f\"  TotalSeqLen: {len(record.seq)} nucleotides\")"
      ],
      "metadata": {
        "id": "Z1Be1ldcSJ1-"
      },
      "execution_count": 24,
      "outputs": []
    },
    {
      "cell_type": "code",
      "source": [],
      "metadata": {
        "id": "tteE0Oe7SJr0"
      },
      "execution_count": null,
      "outputs": []
    },
    {
      "cell_type": "markdown",
      "source": [
        "# Low Quality Region"
      ],
      "metadata": {
        "id": "YeDlngVg_KVZ"
      }
    },
    {
      "cell_type": "code",
      "source": [
        "record = SeqIO.read(\"sample_data/A-372711_A5.ab1\", \"abi\")"
      ],
      "metadata": {
        "id": "ngvUbn96_LCb"
      },
      "execution_count": 27,
      "outputs": []
    },
    {
      "cell_type": "code",
      "source": [],
      "metadata": {
        "id": "Sb7cTpocAt04"
      },
      "execution_count": null,
      "outputs": []
    },
    {
      "cell_type": "markdown",
      "source": [
        "# Correction"
      ],
      "metadata": {
        "id": "0F3Yy-ay9QTc"
      }
    },
    {
      "cell_type": "code",
      "source": [],
      "metadata": {
        "id": "ti-Z_EaJ9VkP"
      },
      "execution_count": null,
      "outputs": []
    },
    {
      "cell_type": "markdown",
      "source": [
        "# Machine Learning"
      ],
      "metadata": {
        "id": "xcM3xTAY9W9J"
      }
    },
    {
      "cell_type": "code",
      "source": [],
      "metadata": {
        "id": "j4s66V0W9Z_9"
      },
      "execution_count": null,
      "outputs": []
    },
    {
      "cell_type": "markdown",
      "source": [
        "# Export AB1 file"
      ],
      "metadata": {
        "id": "5u2jeNBGpwrc"
      }
    },
    {
      "cell_type": "code",
      "source": [
        "record = SeqIO.read(\"sample_data/A-372711_A5.ab1\", \"abi\")"
      ],
      "metadata": {
        "id": "f2nA3rwQpzFp"
      },
      "execution_count": null,
      "outputs": []
    }
  ]
}